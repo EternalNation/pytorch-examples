{
 "cells": [
  {
   "cell_type": "code",
   "execution_count": 1,
   "metadata": {
    "collapsed": false
   },
   "outputs": [
    {
     "name": "stdout",
     "output_type": "stream",
     "text": [
      "CPython 3.5.2\n",
      "IPython 5.1.0\n",
      "\n",
      "torch n\u0007\n",
      "numpy 1.11.3\n"
     ]
    }
   ],
   "source": [
    "%load_ext watermark\n",
    "%watermark -v -p torch,numpy"
   ]
  },
  {
   "cell_type": "code",
   "execution_count": 2,
   "metadata": {
    "collapsed": false
   },
   "outputs": [
    {
     "name": "stdout",
     "output_type": "stream",
     "text": [
      "Using matplotlib backend: MacOSX\n",
      "Populating the interactive namespace from numpy and matplotlib\n"
     ]
    }
   ],
   "source": [
    "%pylab\n",
    "%matplotlib inline"
   ]
  },
  {
   "cell_type": "code",
   "execution_count": 3,
   "metadata": {
    "collapsed": true
   },
   "outputs": [],
   "source": [
    "import torch\n",
    "import torch.nn as nn\n",
    "import torch.nn.functional as F\n",
    "import torch.optim as optim\n",
    "from torch.autograd import Variable"
   ]
  },
  {
   "cell_type": "code",
   "execution_count": 10,
   "metadata": {
    "collapsed": true
   },
   "outputs": [],
   "source": [
    "# target dist. params\n",
    "data_mean = 4\n",
    "data_stddev = 1.25\n",
    "\n",
    "# Discriminator params\n",
    "d_input_size = 100   # Minibatch size - cardinality of distributions\n",
    "d_hidden_size = 50   # Discriminator hidden unit\n",
    "d_output_size = 1    # Single dimension for 'real' vs. 'fake'\n",
    "\n",
    "# Generator params\n",
    "g_input_size = 100     # Random noise dimension coming into generator, per output vector\n",
    "g_hidden_size = 50   # Generator hidden unit\n",
    "g_output_size = 100    # generate a value at a time\n",
    "\n",
    "num_epochs = 5000\n",
    "\n",
    "# 'k' steps in the original GAN paper. \n",
    "# Can put the discriminator on higher training freq than generator\n",
    "d_steps = 5\n",
    "g_steps = 5"
   ]
  },
  {
   "cell_type": "code",
   "execution_count": 11,
   "metadata": {
    "collapsed": false
   },
   "outputs": [],
   "source": [
    "class Discriminator(nn.Module):\n",
    "    def __init__(self, input_size, hidden_size, output_size):\n",
    "        super(Discriminator, self).__init__()\n",
    "        self.map1 = nn.Linear(input_size, hidden_size)\n",
    "        self.map2 = nn.Linear(hidden_size, hidden_size)\n",
    "        self.map3 = nn.Linear(hidden_size, output_size)\n",
    "\n",
    "    def forward(self, x):\n",
    "        x = F.relu(self.map1(x))\n",
    "        x = F.relu(self.map2(x))\n",
    "        return F.sigmoid(self.map3(x))\n",
    "\n",
    "class Generator(nn.Module):\n",
    "    def __init__(self, input_size, hidden_size, output_size):\n",
    "        super(Generator, self).__init__()\n",
    "        self.map1 = nn.Linear(input_size, hidden_size)\n",
    "        self.map2 = nn.Linear(hidden_size, hidden_size)\n",
    "        self.map3 = nn.Linear(hidden_size, output_size)\n",
    "\n",
    "    def forward(self, x):\n",
    "        x = F.relu(self.map1(x))\n",
    "        x = F.relu(self.map2(x))\n",
    "        return self.map3(x)\n",
    "\n",
    "# get gaussian dist.\n",
    "real_sampler = lambda n: torch.Tensor(1, n).normal_(data_mean, data_stddev)\n",
    "# get normal dist.\n",
    "fake_sampler = lambda n: torch.rand(1, n)"
   ]
  },
  {
   "cell_type": "code",
   "execution_count": 12,
   "metadata": {
    "collapsed": false
   },
   "outputs": [],
   "source": [
    "# D's input_size = sampling + noise\n",
    "D = Discriminator(input_size=d_input_size, hidden_size=d_hidden_size, output_size=d_output_size)\n",
    "G = Generator(input_size=g_input_size, hidden_size=g_hidden_size, output_size=g_output_size)\n",
    "\n",
    "loss = nn.BCELoss()  # Binary cross entropy: http://pytorch.org/docs/nn.html#bceloss\n",
    "d_optimizer = optim.Adam(D.parameters())\n",
    "g_optimizer = optim.Adam(G.parameters())\n",
    "\n",
    "# for stat display\n",
    "d_real_error = []\n",
    "d_fake_error = []\n",
    "g_fake_error = []\n",
    "fake_means = []\n",
    "fake_stds = []\n",
    "\n",
    "for epoch in range(num_epochs):\n",
    "    \n",
    "    # Training D with gaussian dist. and G's fake data.\n",
    "    for d_index in range(d_steps):\n",
    "        # clear D's gradient\n",
    "        D.zero_grad()\n",
    "        \n",
    "        # train D with gaussian dist.\n",
    "        real_data = Variable(real_sampler(d_input_size)) # dim(1, d_input_size)\n",
    "        real_decision = D(real_data)\n",
    "        real_error = loss(real_decision, Variable(torch.ones(1)))  # it's true(torch.ones)\n",
    "        d_real_error.append(real_error.data.numpy()[0])\n",
    "        real_error.backward() # compute/store gradients\n",
    "\n",
    "        #  train D with fake data\n",
    "        fake_input = Variable(fake_sampler(g_input_size)) # get normal dist. dim(d_input_size, 1)\n",
    "        fake_data = G(fake_input) # make fake data. dim(d_input_size, 1)\n",
    "        fake_decision = D(fake_data)\n",
    "        fake_error = loss(fake_decision, Variable(torch.zeros(1)))  # it's wrong(torch.zeros)\n",
    "        d_fake_error.append(fake_error.data.numpy()[0])\n",
    "        fake_error.backward()  # compute/store gradients\n",
    "        d_optimizer.step()     # change D's parameters\n",
    "\n",
    "    # training G with D's answer\n",
    "    for g_index in range(g_steps):\n",
    "        # clear G's gradient\n",
    "        G.zero_grad()\n",
    "\n",
    "        # train G with D's response\n",
    "        fake_input = Variable(fake_sampler(g_input_size)) # get normal dist. dim(d_input_size, 1)\n",
    "        fake_data = G(fake_input) # make fake data. dim(d_input_size, 1)\n",
    "        fake_decision = D(fake_data)\n",
    "        fake_error = loss(fake_decision, Variable(torch.ones(1)))  # want to true(torch.ones)\n",
    "        g_fake_error.append(fake_error.data.numpy()[0])\n",
    "        fake_error.backward()  # compute/store gradients\n",
    "        g_optimizer.step()     # change G's parameters\n",
    " \n",
    "    fake_input = Variable(fake_sampler(g_input_size))\n",
    "    fake_data = G(fake_input)\n",
    "    d = fake_data.data.numpy()\n",
    "    fake_means.append(np.mean(d))\n",
    "    fake_stds.append(np.std(d))"
   ]
  },
  {
   "cell_type": "code",
   "execution_count": 13,
   "metadata": {
    "collapsed": false
   },
   "outputs": [
    {
     "data": {
      "text/plain": [
       "[<matplotlib.lines.Line2D at 0x1150bacc0>]"
      ]
     },
     "execution_count": 13,
     "metadata": {},
     "output_type": "execute_result"
    },
    {
     "data": {
      "image/png": "[encoded data removed]",
      "text/plain": [
       "<matplotlib.figure.Figure at 0x1150bac50>"
      ]
     },
     "metadata": {},
     "output_type": "display_data"
    }
   ],
   "source": [
    "plt.plot(fake_means)\n",
    "plt.plot(fake_stds)"
   ]
  },
  {
   "cell_type": "code",
   "execution_count": 14,
   "metadata": {
    "collapsed": false
   },
   "outputs": [
    {
     "data": {
      "text/plain": [
       "[<matplotlib.lines.Line2D at 0x1152f2b00>]"
      ]
     },
     "execution_count": 14,
     "metadata": {},
     "output_type": "execute_result"
    },
    {
     "data": {
      "image/png": "[encoded data removed]",
      "text/plain": [
       "<matplotlib.figure.Figure at 0x115351518>"
      ]
     },
     "metadata": {},
     "output_type": "display_data"
    }
   ],
   "source": [
    "plt.plot(d_real_error)\n",
    "plt.plot(d_fake_error)\n",
    "plt.plot(g_fake_error)"
   ]
  },
  {
   "cell_type": "code",
   "execution_count": 15,
   "metadata": {
    "collapsed": false
   },
   "outputs": [
    {
     "data": {
      "image/png": "[encoded data removed]",
      "text/plain": [
       "<matplotlib.figure.Figure at 0x1150ab978>"
      ]
     },
     "metadata": {},
     "output_type": "display_data"
    },
    {
     "data": {
      "image/png": "[encoded data removed]",
      "text/plain": [
       "<matplotlib.figure.Figure at 0x115366438>"
      ]
     },
     "metadata": {},
     "output_type": "display_data"
    }
   ],
   "source": [
    "fake_input = Variable(fake_sampler(g_input_size))\n",
    "plt.hist(fake_input.data.numpy().T, bins=20)\n",
    "plt.show()\n",
    "\n",
    "fake_data = G(fake_input)\n",
    "plt.hist(fake_data.data.numpy().T, bins=20)\n",
    "plt.show()"
   ]
  },
  {
   "cell_type": "code",
   "execution_count": null,
   "metadata": {
    "collapsed": true
   },
   "outputs": [],
   "source": []
  }
 ],
 "metadata": {
  "kernelspec": {
   "display_name": "Python 3",
   "language": "python",
   "name": "python3"
  },
  "language_info": {
   "codemirror_mode": {
    "name": "ipython",
    "version": 3
   },
   "file_extension": ".py",
   "mimetype": "text/x-python",
   "name": "python",
   "nbconvert_exporter": "python",
   "pygments_lexer": "ipython3",
   "version": "3.5.2"
  }
 },
 "nbformat": 4,
 "nbformat_minor": 2
}
